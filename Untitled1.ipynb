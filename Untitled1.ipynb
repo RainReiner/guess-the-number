{
  "nbformat": 4,
  "nbformat_minor": 0,
  "metadata": {
    "colab": {
      "provenance": []
    },
    "kernelspec": {
      "name": "python3",
      "display_name": "Python 3"
    },
    "language_info": {
      "name": "python"
    }
  },
  "cells": [
    {
      "cell_type": "code",
      "execution_count": 18,
      "metadata": {
        "colab": {
          "base_uri": "https://localhost:8080/"
        },
        "id": "SY6gv4rC9KBO",
        "outputId": "a5cecd46-4d82-4e0d-8635-e259b9ac2a38"
      },
      "outputs": [
        {
          "output_type": "stream",
          "name": "stdout",
          "text": [
            "請輸入一個數字3\n",
            "1*1=1\n",
            "1*2=2\n",
            "1*3=3\n",
            "2*1=2\n",
            "2*2=4\n",
            "2*3=6\n",
            "3*1=3\n",
            "3*2=6\n",
            "3*3=9\n"
          ]
        }
      ],
      "source": [
        "num = int(input(\"請輸入一個數字\"))\n",
        "for i in range(1 , num + 1):\n",
        " for j in range(1 , num + 1):\n",
        "  product = i * j\n",
        "  print(f\"{i}*{j}={product}\")"
      ]
    },
    {
      "cell_type": "code",
      "source": [
        "import random\n",
        "target_number = random.randint(1, 100)\n",
        "\n",
        "print(\"歡迎參加猜數字遊戲！\")\n",
        "a = 0\n",
        "while a == 0:\n",
        "  guess = int(input(\"你的猜測是？\"))\n",
        "  if guess > target_number:\n",
        "    print(\"再猜低一點兒！\")\n",
        "  elif guess < target_number:\n",
        "    print(\"再猜高一點兒！\")\n",
        "  else:\n",
        "    print(f\"恭喜你猜對答案啦！\")\n",
        "    a = 1\n",
        "print(\"遊戲結束，慢走不送\")"
      ],
      "metadata": {
        "colab": {
          "base_uri": "https://localhost:8080/"
        },
        "id": "VBkU5428F_ne",
        "outputId": "47af9292-f4d6-40ca-dd88-f7c4624ba570"
      },
      "execution_count": 22,
      "outputs": [
        {
          "output_type": "stream",
          "name": "stdout",
          "text": [
            "歡迎參加猜數字遊戲！\n",
            "你的猜測是？2\n",
            "再猜高一點兒！\n",
            "你的猜測是？50\n",
            "再猜高一點兒！\n",
            "你的猜測是？60\n",
            "再猜高一點兒！\n",
            "你的猜測是？80\n",
            "再猜低一點兒！\n",
            "你的猜測是？75\n",
            "再猜低一點兒！\n",
            "你的猜測是？71\n",
            "再猜低一點兒！\n",
            "你的猜測是？67\n",
            "再猜低一點兒！\n",
            "你的猜測是？64\n",
            "再猜低一點兒！\n",
            "你的猜測是？61\n",
            "恭喜你猜對答案啦！\n",
            "遊戲結束，慢走不送\n"
          ]
        }
      ]
    },
    {
      "cell_type": "code",
      "source": [],
      "metadata": {
        "id": "lvNvuc_CB-2n"
      },
      "execution_count": null,
      "outputs": []
    }
  ]
}